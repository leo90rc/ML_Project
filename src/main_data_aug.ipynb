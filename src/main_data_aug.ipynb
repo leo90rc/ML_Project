{
 "metadata": {
  "language_info": {
   "codemirror_mode": {
    "name": "ipython",
    "version": 3
   },
   "file_extension": ".py",
   "mimetype": "text/x-python",
   "name": "python",
   "nbconvert_exporter": "python",
   "pygments_lexer": "ipython3",
   "version": "3.7.4"
  },
  "orig_nbformat": 4,
  "kernelspec": {
   "name": "python3",
   "display_name": "Python 3.7.4 64-bit"
  },
  "interpreter": {
   "hash": "a0947237fadc8b5561fed326db280cc5ec46a670c87cfb3a0489cf95ff262303"
  }
 },
 "nbformat": 4,
 "nbformat_minor": 2,
 "cells": [
  {
   "cell_type": "code",
   "execution_count": 4,
   "metadata": {},
   "outputs": [
    {
     "output_type": "error",
     "ename": "ModuleNotFoundError",
     "evalue": "No module named 'datasmarts'",
     "traceback": [
      "\u001b[1;31m---------------------------------------------------------------------------\u001b[0m",
      "\u001b[1;31mModuleNotFoundError\u001b[0m                       Traceback (most recent call last)",
      "\u001b[1;32m<ipython-input-4-9ae0b40f9236>\u001b[0m in \u001b[0;36m<module>\u001b[1;34m\u001b[0m\n\u001b[0;32m     15\u001b[0m \u001b[1;31m# donde guardaremos los gráficos con la curva de entrenamiento de la red y la arquitectura de la red, específicamente.\u001b[0m\u001b[1;33m\u001b[0m\u001b[1;33m\u001b[0m\u001b[1;33m\u001b[0m\u001b[0m\n\u001b[0;32m     16\u001b[0m \u001b[1;31m# -l define el tipo de problema que resolveremos: \"fine\" == 100 (sub-clases) o \"coarse\" == 20 (súper clases).\u001b[0m\u001b[1;33m\u001b[0m\u001b[1;33m\u001b[0m\u001b[1;33m\u001b[0m\u001b[0m\n\u001b[1;32m---> 17\u001b[1;33m \u001b[1;32mfrom\u001b[0m \u001b[0mdatasmarts\u001b[0m\u001b[1;33m.\u001b[0m\u001b[0mconfig\u001b[0m \u001b[1;32mimport\u001b[0m \u001b[0mCIFAR_100_FINE_LABELS\u001b[0m\u001b[1;33m\u001b[0m\u001b[1;33m\u001b[0m\u001b[0m\n\u001b[0m\u001b[0;32m     18\u001b[0m \u001b[1;33m\u001b[0m\u001b[0m\n\u001b[0;32m     19\u001b[0m \u001b[0margument_parser\u001b[0m \u001b[1;33m=\u001b[0m \u001b[0margparse\u001b[0m\u001b[1;33m.\u001b[0m\u001b[0mArgumentParser\u001b[0m\u001b[1;33m(\u001b[0m\u001b[1;33m)\u001b[0m\u001b[1;33m\u001b[0m\u001b[1;33m\u001b[0m\u001b[0m\n",
      "\u001b[1;31mModuleNotFoundError\u001b[0m: No module named 'datasmarts'"
     ]
    }
   ],
   "source": [
    "import argparse\n",
    " \n",
    "import matplotlib.pyplot as plt\n",
    "from keras import Sequential\n",
    "from keras.datasets import cifar100  # En este módulo está CIFAR-100 en formato numpy\n",
    "from keras.layers import Dense, Flatten, Conv2D, MaxPooling2D\n",
    "from tensorflow.keras.optimizers import Adam\n",
    "\n",
    "from keras.preprocessing.image import ImageDataGenerator\n",
    "from sklearn.metrics import classification_report\n",
    "from sklearn.model_selection import train_test_split\n",
    "from sklearn.preprocessing import LabelBinarizer\n",
    " \n",
    "# Definimos los parámetros de entrada del programa. Los parámetros -o y -m son obligatorios, los cuales definen las rutas\n",
    "# donde guardaremos los gráficos con la curva de entrenamiento de la red y la arquitectura de la red, específicamente.\n",
    "# -l define el tipo de problema que resolveremos: \"fine\" == 100 (sub-clases) o \"coarse\" == 20 (súper clases).\n",
    "from datasmarts.config import CIFAR_100_FINE_LABELS\n",
    " \n",
    "argument_parser = argparse.ArgumentParser()\n",
    "argument_parser.add_argument('-o', '--output', required=True, help='Ruta al gráfico de salida.')\n",
    "argument_parser.add_argument('-e', '--epochs', default=100, type=int,\n",
    "                             help='Número de epochs que se entrenará la red (100 por defecto).')\n",
    "argument_parser.add_argument('-b', '--batch-size', default=128, type=int,\n",
    "                             help='Número de imágenes por lote (batch size).')\n",
    "arguments = vars(argument_parser.parse_args())\n",
    " \n",
    "# Aquí accedemos a CIFAR-100 mediante Keras. Si no lo ha hecho previamente, Keras descargará el conjunto de datos; si ya\n",
    "# lo hizo, lo buscará en su cache local. El conjunto de datos ya viene dividido en subconjuntos de entrenamiento y pruebas.\n",
    "print('[INFO] Descargando/accediendo a CIFAR-100...')\n",
    "(X_train, y_train), (X_test, y_test) = cifar100.load_data(label_mode='fine')\n",
    " \n",
    "# Queremos normalizar los datos para evitar problemas de inestabilidad numérica. Aprovechamos la oportunidad\n",
    "# para asegurarnos de que los datos estén representados con floats de 32-bits.\n",
    "X_train = X_train.astype('float32') / 255.0\n",
    "X_test = X_test.astype('float32') / 255.0\n",
    " \n",
    "# Ahora debemos convertir las etiquetas en vectores one-hot encoded.\n"
   ]
  },
  {
   "cell_type": "code",
   "execution_count": null,
   "metadata": {},
   "outputs": [],
   "source": [
    "x_train"
   ]
  },
  {
   "cell_type": "code",
   "execution_count": null,
   "metadata": {},
   "outputs": [],
   "source": []
  }
 ]
}