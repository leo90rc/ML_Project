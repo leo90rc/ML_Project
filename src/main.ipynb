{
 "metadata": {
  "language_info": {
   "codemirror_mode": {
    "name": "ipython",
    "version": 3
   },
   "file_extension": ".py",
   "mimetype": "text/x-python",
   "name": "python",
   "nbconvert_exporter": "python",
   "pygments_lexer": "ipython3",
   "version": "3.7.4"
  },
  "orig_nbformat": 4,
  "kernelspec": {
   "name": "python3",
   "display_name": "Python 3.7.4 64-bit"
  },
  "interpreter": {
   "hash": "a0947237fadc8b5561fed326db280cc5ec46a670c87cfb3a0489cf95ff262303"
  }
 },
 "nbformat": 4,
 "nbformat_minor": 2,
 "cells": [
  {
   "cell_type": "code",
   "execution_count": 1,
   "metadata": {},
   "outputs": [
    {
     "output_type": "stream",
     "name": "stdout",
     "text": [
      "---\n['n02085620-Chihuahua', 'n02085782-Japanese_spaniel', 'n02085936-Maltese_dog', 'n02086079-Pekinese', 'n02086240-Shih-Tzu', 'n02086646-Blenheim_spaniel', 'n02086910-papillon', 'n02087046-toy_terrier', 'n02087394-Rhodesian_ridgeback', 'n02088094-Afghan_hound', 'n02088238-basset', 'n02088364-beagle', 'n02088466-bloodhound', 'n02088632-bluetick', 'n02089078-black-and-tan_coonhound', 'n02089867-Walker_hound', 'n02089973-English_foxhound', 'n02090379-redbone', 'n02090622-borzoi', 'n02090721-Irish_wolfhound', 'n02091032-Italian_greyhound', 'n02091134-whippet', 'n02091244-Ibizan_hound', 'n02091467-Norwegian_elkhound', 'n02091635-otterhound', 'n02091831-Saluki', 'n02092002-Scottish_deerhound', 'n02092339-Weimaraner', 'n02093256-Staffordshire_bullterrier', 'n02093428-American_Staffordshire_terrier', 'n02093647-Bedlington_terrier', 'n02093754-Border_terrier', 'n02093859-Kerry_blue_terrier', 'n02093991-Irish_terrier', 'n02094114-Norfolk_terrier', 'n02094258-Norwich_terrier', 'n02094433-Yorkshire_terrier', 'n02095314-wire-haired_fox_terrier', 'n02095570-Lakeland_terrier', 'n02095889-Sealyham_terrier', 'n02096051-Airedale', 'n02096177-cairn', 'n02096294-Australian_terrier', 'n02096437-Dandie_Dinmont', 'n02096585-Boston_bull', 'n02097047-miniature_schnauzer', 'n02097130-giant_schnauzer', 'n02097209-standard_schnauzer', 'n02097298-Scotch_terrier', 'n02097474-Tibetan_terrier', 'n02097658-silky_terrier', 'n02098105-soft-coated_wheaten_terrier', 'n02098286-West_Highland_white_terrier', 'n02098413-Lhasa', 'n02099267-flat-coated_retriever', 'n02099429-curly-coated_retriever', 'n02099601-golden_retriever', 'n02099712-Labrador_retriever', 'n02099849-Chesapeake_Bay_retriever', 'n02100236-German_short-haired_pointer', 'n02100583-vizsla', 'n02100735-English_setter', 'n02100877-Irish_setter', 'n02101006-Gordon_setter', 'n02101388-Brittany_spaniel', 'n02101556-clumber', 'n02102040-English_springer', 'n02102177-Welsh_springer_spaniel', 'n02102318-cocker_spaniel', 'n02102480-Sussex_spaniel', 'n02102973-Irish_water_spaniel', 'n02104029-kuvasz', 'n02104365-schipperke', 'n02105056-groenendael', 'n02105162-malinois', 'n02105251-briard', 'n02105412-kelpie', 'n02105505-komondor', 'n02105641-Old_English_sheepdog', 'n02105855-Shetland_sheepdog', 'n02106030-collie', 'n02106166-Border_collie', 'n02106382-Bouvier_des_Flandres', 'n02106550-Rottweiler', 'n02106662-German_shepherd', 'n02107142-Doberman', 'n02107312-miniature_pinscher', 'n02107574-Greater_Swiss_Mountain_dog', 'n02107683-Bernese_mountain_dog', 'n02107908-Appenzeller', 'n02108000-EntleBucher', 'n02108089-boxer', 'n02108422-bull_mastiff', 'n02108551-Tibetan_mastiff', 'n02108915-French_bulldog', 'n02109047-Great_Dane', 'n02109525-Saint_Bernard', 'n02109961-Eskimo_dog', 'n02110063-malamute', 'n02110185-Siberian_husky', 'n02110627-affenpinscher', 'n02110806-basenji', 'n02110958-pug', 'n02111129-Leonberg', 'n02111277-Newfoundland', 'n02111500-Great_Pyrenees', 'n02111889-Samoyed', 'n02112018-Pomeranian', 'n02112137-chow', 'n02112350-keeshond', 'n02112706-Brabancon_griffon', 'n02113023-Pembroke', 'n02113186-Cardigan', 'n02113624-toy_poodle', 'n02113712-miniature_poodle', 'n02113799-standard_poodle', 'n02113978-Mexican_hairless', 'n02115641-dingo', 'n02115913-dhole', 'n02116738-African_hunting_dog']\n"
     ]
    }
   ],
   "source": [
    "import os, sys\n",
    "from utils import mining_data_tb as md_tb"
   ]
  },
  {
   "source": [
    "## Nombres de las carpetas"
   ],
   "cell_type": "markdown",
   "metadata": {}
  },
  {
   "cell_type": "code",
   "execution_count": 9,
   "metadata": {},
   "outputs": [],
   "source": [
    "lista_carpetas_train = os.listdir('../data/fotos_perros/train')"
   ]
  },
  {
   "cell_type": "code",
   "execution_count": 10,
   "metadata": {},
   "outputs": [
    {
     "output_type": "execute_result",
     "data": {
      "text/plain": [
       "['Affenpinscher',\n",
       " 'Afghan Hound',\n",
       " 'African Hunting Dog',\n",
       " 'Airedale',\n",
       " 'American Staffordshire Terrier']"
      ]
     },
     "metadata": {},
     "execution_count": 10
    }
   ],
   "source": [
    "lista_carpetas_train[0:5]"
   ]
  },
  {
   "cell_type": "code",
   "execution_count": 6,
   "metadata": {},
   "outputs": [],
   "source": [
    "lista_carpetas_test = os.listdir('../data/fotos_perros/test')"
   ]
  },
  {
   "cell_type": "code",
   "execution_count": 7,
   "metadata": {},
   "outputs": [
    {
     "output_type": "execute_result",
     "data": {
      "text/plain": [
       "['Affenpinscher',\n",
       " 'Afghan Hound',\n",
       " 'African Hunting Dog',\n",
       " 'Airedale',\n",
       " 'American Staffordshire Terrier']"
      ]
     },
     "metadata": {},
     "execution_count": 7
    }
   ],
   "source": [
    "lista_carpetas_test[0:5]"
   ]
  },
  {
   "source": [
    "Se desea renombrar las carpetas para que incluyan únicamente el nombre de la raza.\n",
    "\n",
    "Entonces en primera instancia, se modifica la lista para que contenga únicamente el nombre de la raza, tal como se desea etiquetarla."
   ],
   "cell_type": "markdown",
   "metadata": {}
  },
  {
   "cell_type": "code",
   "execution_count": 4,
   "metadata": {},
   "outputs": [],
   "source": [
    "md_tb.renombrar_carpetas('train')"
   ]
  },
  {
   "cell_type": "code",
   "execution_count": 5,
   "metadata": {},
   "outputs": [],
   "source": [
    "md_tb.renombrar_carpetas('test')"
   ]
  },
  {
   "cell_type": "code",
   "execution_count": 4,
   "metadata": {},
   "outputs": [
    {
     "output_type": "execute_result",
     "data": {
      "text/plain": [
       "['Chihuahua', 'Japanese Spaniel', 'Maltese Dog', 'Pekinese', 'Shih Tzu']"
      ]
     },
     "metadata": {},
     "execution_count": 4
    }
   ],
   "source": [
    "lista_carpetas_ok = md_tb.nombres_carpetas_ok(lista_carpetas_train)\n",
    "lista_carpetas_ok[:5]"
   ]
  },
  {
   "source": [
    "## Renombrando las carpetas"
   ],
   "cell_type": "markdown",
   "metadata": {}
  },
  {
   "cell_type": "code",
   "execution_count": 5,
   "metadata": {},
   "outputs": [
    {
     "output_type": "error",
     "ename": "FileNotFoundError",
     "evalue": "[WinError 2] El sistema no puede encontrar el archivo especificado: 'c:\\\\Users\\\\LeoFr\\\\Desktop\\\\BootCamp\\\\CARPETAS_profesorYalumno\\\\Proyectos\\\\leonardo_frazzetto_yeqre_apr\\\\data\\\\fotos_perros\\\\train\\\\n02085620-Chihuahua' -> 'c:\\\\Users\\\\LeoFr\\\\Desktop\\\\BootCamp\\\\CARPETAS_profesorYalumno\\\\Proyectos\\\\leonardo_frazzetto_yeqre_apr\\\\data\\\\fotos_perros\\\\train\\\\Japanese Spaniel'",
     "traceback": [
      "\u001b[1;31m---------------------------------------------------------------------------\u001b[0m",
      "\u001b[1;31mFileNotFoundError\u001b[0m                         Traceback (most recent call last)",
      "\u001b[1;32m<ipython-input-5-46a54ab1f3c4>\u001b[0m in \u001b[0;36m<module>\u001b[1;34m\u001b[0m\n\u001b[1;32m----> 1\u001b[1;33m \u001b[0mmd_tb\u001b[0m\u001b[1;33m.\u001b[0m\u001b[0mrenombrar_carpetas_train\u001b[0m\u001b[1;33m(\u001b[0m\u001b[0mlista_carpetas_ok\u001b[0m\u001b[1;33m)\u001b[0m\u001b[1;33m\u001b[0m\u001b[1;33m\u001b[0m\u001b[0m\n\u001b[0m",
      "\u001b[1;32mc:\\Users\\LeoFr\\Desktop\\BootCamp\\CARPETAS_profesorYalumno\\Proyectos\\leonardo_frazzetto_yeqre_apr\\src\\utils\\mining_data_tb.py\u001b[0m in \u001b[0;36mrenombrar_carpetas_train\u001b[1;34m(lista_nombres_ok)\u001b[0m\n\u001b[0;32m     25\u001b[0m     \u001b[1;32mfor\u001b[0m \u001b[0mi\u001b[0m \u001b[1;32min\u001b[0m \u001b[0mlista_nombres_ok\u001b[0m\u001b[1;33m:\u001b[0m\u001b[1;33m\u001b[0m\u001b[1;33m\u001b[0m\u001b[0m\n\u001b[0;32m     26\u001b[0m         \u001b[1;32mfor\u001b[0m \u001b[0mj\u001b[0m \u001b[1;32min\u001b[0m \u001b[0mlista_original_carpetas\u001b[0m\u001b[1;33m:\u001b[0m\u001b[1;33m\u001b[0m\u001b[1;33m\u001b[0m\u001b[0m\n\u001b[1;32m---> 27\u001b[1;33m             \u001b[0mos\u001b[0m\u001b[1;33m.\u001b[0m\u001b[0mrename\u001b[0m\u001b[1;33m(\u001b[0m\u001b[0mproject_path\u001b[0m \u001b[1;33m+\u001b[0m \u001b[0msep\u001b[0m \u001b[1;33m+\u001b[0m \u001b[1;34m'data'\u001b[0m \u001b[1;33m+\u001b[0m \u001b[0msep\u001b[0m \u001b[1;33m+\u001b[0m \u001b[1;34m'fotos_perros'\u001b[0m \u001b[1;33m+\u001b[0m \u001b[0msep\u001b[0m \u001b[1;33m+\u001b[0m \u001b[1;34m'train'\u001b[0m \u001b[1;33m+\u001b[0m \u001b[0msep\u001b[0m \u001b[1;33m+\u001b[0m \u001b[0mj\u001b[0m\u001b[1;33m,\u001b[0m \u001b[0mproject_path\u001b[0m \u001b[1;33m+\u001b[0m \u001b[0msep\u001b[0m \u001b[1;33m+\u001b[0m \u001b[1;34m'data'\u001b[0m \u001b[1;33m+\u001b[0m \u001b[0msep\u001b[0m \u001b[1;33m+\u001b[0m \u001b[1;34m'fotos_perros'\u001b[0m \u001b[1;33m+\u001b[0m \u001b[0msep\u001b[0m \u001b[1;33m+\u001b[0m \u001b[1;34m'train'\u001b[0m \u001b[1;33m+\u001b[0m \u001b[0msep\u001b[0m \u001b[1;33m+\u001b[0m \u001b[0mi\u001b[0m\u001b[1;33m)\u001b[0m\u001b[1;33m\u001b[0m\u001b[1;33m\u001b[0m\u001b[0m\n\u001b[0m\u001b[0;32m     28\u001b[0m             \u001b[1;32mbreak\u001b[0m\u001b[1;33m\u001b[0m\u001b[1;33m\u001b[0m\u001b[0m\n\u001b[0;32m     29\u001b[0m \u001b[1;33m\u001b[0m\u001b[0m\n",
      "\u001b[1;31mFileNotFoundError\u001b[0m: [WinError 2] El sistema no puede encontrar el archivo especificado: 'c:\\\\Users\\\\LeoFr\\\\Desktop\\\\BootCamp\\\\CARPETAS_profesorYalumno\\\\Proyectos\\\\leonardo_frazzetto_yeqre_apr\\\\data\\\\fotos_perros\\\\train\\\\n02085620-Chihuahua' -> 'c:\\\\Users\\\\LeoFr\\\\Desktop\\\\BootCamp\\\\CARPETAS_profesorYalumno\\\\Proyectos\\\\leonardo_frazzetto_yeqre_apr\\\\data\\\\fotos_perros\\\\train\\\\Japanese Spaniel'"
     ]
    }
   ],
   "source": [
    "md_tb.renombrar_carpetas_train(lista_carpetas_ok)"
   ]
  },
  {
   "cell_type": "code",
   "execution_count": 6,
   "metadata": {},
   "outputs": [
    {
     "output_type": "execute_result",
     "data": {
      "text/plain": [
       "'c:\\\\Users\\\\LeoFr\\\\Desktop\\\\BootCamp\\\\CARPETAS_profesorYalumno\\\\Proyectos\\\\leonardo_frazzetto_yeqre_apr\\\\src'"
      ]
     },
     "metadata": {},
     "execution_count": 6
    }
   ],
   "source": [
    "os.chdir()"
   ]
  },
  {
   "cell_type": "code",
   "execution_count": null,
   "metadata": {},
   "outputs": [],
   "source": []
  }
 ]
}