{
 "metadata": {
  "language_info": {
   "codemirror_mode": {
    "name": "ipython",
    "version": 3
   },
   "file_extension": ".py",
   "mimetype": "text/x-python",
   "name": "python",
   "nbconvert_exporter": "python",
   "pygments_lexer": "ipython3",
   "version": "3.7.4"
  },
  "orig_nbformat": 4,
  "kernelspec": {
   "name": "python3",
   "display_name": "Python 3.7.4 64-bit"
  },
  "interpreter": {
   "hash": "a0947237fadc8b5561fed326db280cc5ec46a670c87cfb3a0489cf95ff262303"
  }
 },
 "nbformat": 4,
 "nbformat_minor": 2,
 "cells": [
  {
   "cell_type": "code",
   "execution_count": 1,
   "metadata": {},
   "outputs": [],
   "source": [
    "import os, sys\n",
    "from utils import mining_data_tb as md_tb"
   ]
  },
  {
   "source": [
    "## Nombres de las carpetas"
   ],
   "cell_type": "markdown",
   "metadata": {}
  },
  {
   "cell_type": "code",
   "execution_count": 2,
   "metadata": {},
   "outputs": [],
   "source": [
    "lista_carpetas_train = os.listdir('../data/fotos_perros/train')"
   ]
  },
  {
   "cell_type": "code",
   "execution_count": 3,
   "metadata": {},
   "outputs": [
    {
     "output_type": "execute_result",
     "data": {
      "text/plain": [
       "['n02085620-Chihuahua',\n",
       " 'n02085782-Japanese_spaniel',\n",
       " 'n02085936-Maltese_dog',\n",
       " 'n02086079-Pekinese',\n",
       " 'n02086240-Shih-Tzu']"
      ]
     },
     "metadata": {},
     "execution_count": 3
    }
   ],
   "source": [
    "lista_carpetas_train[0:5]"
   ]
  },
  {
   "source": [
    "Se desea renombrar las carpetas para que incluyan únicamente el nombre de la raza.\n",
    "\n",
    "Entonces en primera instancia, se modifica la lista para que contenga únicamente el nombre de la raza, tal como se desea etiquetarla."
   ],
   "cell_type": "markdown",
   "metadata": {}
  },
  {
   "cell_type": "code",
   "execution_count": 9,
   "metadata": {},
   "outputs": [
    {
     "output_type": "execute_result",
     "data": {
      "text/plain": [
       "['Chihuahua', 'Japanese Spaniel', 'Maltese Dog', 'Pekinese', 'Shih Tzu']"
      ]
     },
     "metadata": {},
     "execution_count": 9
    }
   ],
   "source": [
    "lista_carpetas_ok = md_tb.nombres_carpetas_ok(lista_carpetas_train)\n",
    "lista_carpetas_ok[:5]"
   ]
  },
  {
   "cell_type": "code",
   "execution_count": null,
   "metadata": {},
   "outputs": [],
   "source": []
  }
 ]
}